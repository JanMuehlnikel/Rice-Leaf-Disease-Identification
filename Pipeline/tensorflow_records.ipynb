{
  "cells": [
    {
      "cell_type": "markdown",
      "metadata": {},
      "source": [
        "# **RICE DISEASE IDENTIFICATION - TENSORFLOW RECORDS**\n",
        "\n",
        "Only need to be excuted once. Is not required to be executed before every training run because we want to keep consistency and that the mopdels learn on the same data sets everytime running\n",
        "\n",
        "Source: https://github.com/jlaihong/Speed-up-TensorFlow-code-using-TFRecords"
      ]
    },
    {
      "cell_type": "markdown",
      "metadata": {},
      "source": [
        "### **Imports**"
      ]
    },
    {
      "cell_type": "code",
      "execution_count": 5,
      "metadata": {},
      "outputs": [],
      "source": [
        "import os\n",
        "import random"
      ]
    },
    {
      "cell_type": "markdown",
      "metadata": {},
      "source": [
        "### **Create shuffeld_labels.txt**"
      ]
    },
    {
      "cell_type": "code",
      "execution_count": 6,
      "metadata": {},
      "outputs": [
        {
          "name": "stdout",
          "output_type": "stream",
          "text": [
            ">> Shuffled labels saved to data/shuffled_labels.txt\n"
          ]
        }
      ],
      "source": [
        "image_folder = 'data/all'\n",
        "label_mapping = {\n",
        "    'NONE': -1,\n",
        "    'BACTERIALBLIGHT': 0,\n",
        "    'BACTERAILBLIGHT': 0, #there where some spelling mistake while labeling\n",
        "    'BLAST': 1,\n",
        "    'BROWNSPOT': 2,\n",
        "    'TUNGRO': 3\n",
        "}\n",
        "\n",
        "image_files = [f for f in os.listdir(image_folder) if f.endswith(\".jpg\")]\n",
        "random.shuffle(image_files)\n",
        "\n",
        "output_labels_file = 'data/shuffled_labels.txt'\n",
        "\n",
        "with open(output_labels_file, 'w') as f:\n",
        "    for image_filename in image_files:\n",
        "        label = \"NONE\"\n",
        "        label_int = -1\n",
        "        for keyword, value in label_mapping.items():\n",
        "            if keyword.lower() in image_filename.lower():\n",
        "                if keyword == 'BACTERAILBLIGHT':\n",
        "                    keyword = 'BACTERIALBLIGHT'\n",
        "                label_int = value\n",
        "                label = keyword\n",
        "                break\n",
        "\n",
        "        f.write(image_filename + ',' + str(label) + ',' + str(label_int) + '\\n')\n",
        "\n",
        "print(f'>> Shuffled labels saved to {output_labels_file}')"
      ]
    },
    {
      "cell_type": "markdown",
      "metadata": {},
      "source": [
        "### **Create TensorflowRecords File**"
      ]
    },
    {
      "cell_type": "code",
      "execution_count": 7,
      "metadata": {},
      "outputs": [],
      "source": [
        "import tensorflow as tf\n",
        "from PIL import Image\n",
        "\n",
        "shuffled_paths = [] \n",
        "shuffled_labels = []\n",
        "shuffled_int_labels = []\n",
        "\n",
        "with open(\"data/shuffled_labels.txt\") as label_file:\n",
        "    label_file_lines = label_file.readlines()\n",
        "\n",
        "for line in label_file_lines:\n",
        "    image_path, image_label, image_int_label = line.strip().split(\",\")\n",
        "    shuffled_paths.append(image_path)\n",
        "    shuffled_labels.append(image_label)\n",
        "    shuffled_int_labels.append(int(image_int_label))\n",
        "\n",
        "def _string_feature(value):\n",
        "    return tf.train.Feature(bytes_list=tf.train.BytesList(value=[value.encode('utf-8')]))\n",
        "\n",
        "def _int64_feature(value):\n",
        "    return tf.train.Feature(int64_list=tf.train.Int64List(value=value))\n",
        "\n",
        "def _float_feature(value):\n",
        "    return tf.train.Feature(float_list=tf.train.FloatList(value=value))\n",
        "\n",
        "\n",
        "def read_and_decode(filename):\n",
        "    IMG_CHANNELS = 3\n",
        "    img = tf.io.read_file(filename)\n",
        "    img = tf.image.decode_jpeg(img, channels=IMG_CHANNELS)\n",
        "    img = tf.image.convert_image_dtype(img, tf.float32)\n",
        "    return img\n",
        "\n",
        "# Write TensorflowRecords\n",
        "with tf.io.TFRecordWriter(\"data/rice_images.tfrecords\") as writer:\n",
        "    for path, label, int_label in zip(shuffled_paths, shuffled_labels, shuffled_int_labels):\n",
        "        image = read_and_decode(\"data/all/\" + path)\n",
        "        dims = image.shape\n",
        "\n",
        "        example = tf.train.Example(features=tf.train.Features(feature={\n",
        "            'image': _float_feature(image.numpy().flatten()),  # Flatten the image to 1D array\n",
        "            'shape': _int64_feature([dims[0], dims[1], dims[2]]),\n",
        "            'label': _string_feature(label),\n",
        "            'label_int': _int64_feature([int_label])\n",
        "        }))\n",
        "        \n",
        "        writer.write(example.SerializeToString())\n",
        "\n"
      ]
    }
  ],
  "metadata": {
    "colab": {
      "authorship_tag": "ABX9TyPb7dwj5GrLi+0ajQS8px0S",
      "provenance": []
    },
    "kernelspec": {
      "display_name": "Python 3",
      "name": "python3"
    },
    "language_info": {
      "codemirror_mode": {
        "name": "ipython",
        "version": 3
      },
      "file_extension": ".py",
      "mimetype": "text/x-python",
      "name": "python",
      "nbconvert_exporter": "python",
      "pygments_lexer": "ipython3",
      "version": "3.10.12"
    }
  },
  "nbformat": 4,
  "nbformat_minor": 0
}
