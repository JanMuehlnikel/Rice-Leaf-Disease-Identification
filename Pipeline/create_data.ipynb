{
 "cells": [
  {
   "cell_type": "markdown",
   "metadata": {},
   "source": [
    "## **Imports**"
   ]
  },
  {
   "cell_type": "code",
   "execution_count": 1,
   "metadata": {},
   "outputs": [],
   "source": [
    "import tensorflow as tf\n",
    "import os\n",
    "from sklearn.model_selection import train_test_split\n",
    "import random\n",
    "import matplotlib.pyplot as plt\n",
    "import numpy as np"
   ]
  },
  {
   "cell_type": "markdown",
   "metadata": {},
   "source": [
    "## **Load the data and random shuffle them**"
   ]
  },
  {
   "cell_type": "code",
   "execution_count": 2,
   "metadata": {},
   "outputs": [
    {
     "name": "stdout",
     "output_type": "stream",
     "text": [
      ">> Shuffled labels saved to data/shuffled_labels.txt\n"
     ]
    }
   ],
   "source": [
    "image_folder = 'data/all'\n",
    "label_mapping = {\n",
    "    'NONE': -1,\n",
    "    'BACTERIALBLIGHT': 0,\n",
    "    'BACTERAILBLIGHT': 0, #there where some spelling mistake while labeling\n",
    "    'BLAST': 1,\n",
    "    'BROWNSPOT': 2,\n",
    "    'TUNGRO': 3\n",
    "}\n",
    "\n",
    "image_files = [f for f in os.listdir(image_folder) if f.endswith(\".jpg\")]\n",
    "random.shuffle(image_files)\n",
    "image_labels = []\n",
    "\n",
    "output_labels_file = 'data/shuffled_labels.txt'\n",
    "\n",
    "with open(output_labels_file, 'w') as f:\n",
    "    for image_filename in image_files:\n",
    "        label = \"NONE\"\n",
    "        label_int = -1\n",
    "        for keyword, value in label_mapping.items():\n",
    "            if keyword.lower() in image_filename.lower():\n",
    "                if keyword == 'BACTERAILBLIGHT':\n",
    "                    keyword = 'BACTERIALBLIGHT'\n",
    "                label_int = value\n",
    "                label = keyword\n",
    "                image_labels.append(label_int)\n",
    "                break\n",
    "\n",
    "        f.write(image_filename + ',' + str(label) + ',' + str(label_int) + '\\n')\n",
    "\n",
    "print(f'>> Shuffled labels saved to {output_labels_file}')\n"
   ]
  },
  {
   "cell_type": "markdown",
   "metadata": {},
   "source": [
    "## **Train / Validation / Test Split**"
   ]
  },
  {
   "cell_type": "code",
   "execution_count": 3,
   "metadata": {},
   "outputs": [],
   "source": [
    "train_image_paths, val_test_paths, train_labels, val_test_labels = train_test_split(\n",
    "    image_files, image_labels, test_size=0.3, random_state=42)\n",
    "\n",
    "val_image_paths, test_image_paths, val_labels, test_labels = train_test_split(\n",
    "    val_test_paths, val_test_labels, test_size=0.00001, random_state=42)"
   ]
  },
  {
   "cell_type": "markdown",
   "metadata": {},
   "source": [
    "## **Write TFRecords**"
   ]
  },
  {
   "cell_type": "code",
   "execution_count": 4,
   "metadata": {},
   "outputs": [],
   "source": [
    "def _int64_feature(value):\n",
    "    return tf.train.Feature(int64_list=tf.train.Int64List(value=value))\n",
    "\n",
    "def _float_feature(value):\n",
    "    return tf.train.Feature(float_list=tf.train.FloatList(value=value))\n",
    "\n",
    "def read_and_decode(filename):\n",
    "    IMG_CHANNELS = 3\n",
    "    img = tf.io.read_file(filename)\n",
    "    img = tf.image.decode_jpeg(img, channels=IMG_CHANNELS)\n",
    "    img = tf.image.convert_image_dtype(img, tf.float32)\n",
    "    return img\n",
    "\n",
    "def write_tfrecords(filename, image_paths, labels):\n",
    "    with tf.io.TFRecordWriter(filename) as writer:\n",
    "        for path, label in zip(image_paths, labels):\n",
    "            image = read_and_decode(\"data/all/\" + path)\n",
    "            dims = image.shape\n",
    "\n",
    "            example = tf.train.Example(features=tf.train.Features(feature={\n",
    "                'image': _float_feature(image.numpy().flatten()), \n",
    "                'shape': _int64_feature([dims[0], dims[1], dims[2]]),\n",
    "                'label': _int64_feature([label])\n",
    "            }))\n",
    "\n",
    "            writer.write(example.SerializeToString())\n",
    "\n",
    "write_tfrecords(\"data/train_images.tfrecords\", train_image_paths, train_labels)\n",
    "write_tfrecords(\"data/val_images.tfrecords\", val_image_paths, val_labels)\n",
    "write_tfrecords(\"data/test_images.tfrecords\", test_image_paths, test_labels)\n",
    "\n"
   ]
  }
 ],
 "metadata": {
  "kernelspec": {
   "display_name": "conda_rice_env",
   "language": "python",
   "name": "python3"
  },
  "language_info": {
   "codemirror_mode": {
    "name": "ipython",
    "version": 3
   },
   "file_extension": ".py",
   "mimetype": "text/x-python",
   "name": "python",
   "nbconvert_exporter": "python",
   "pygments_lexer": "ipython3",
   "version": "3.10.12"
  },
  "orig_nbformat": 4
 },
 "nbformat": 4,
 "nbformat_minor": 2
}
