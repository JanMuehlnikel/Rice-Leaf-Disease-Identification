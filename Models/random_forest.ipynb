{
 "cells": [
  {
   "cell_type": "markdown",
   "metadata": {},
   "source": [
    "# **Random Forest**"
   ]
  },
  {
   "cell_type": "markdown",
   "metadata": {},
   "source": [
    "## **Imports**"
   ]
  },
  {
   "cell_type": "code",
   "execution_count": 15,
   "metadata": {},
   "outputs": [],
   "source": [
    "import tensorflow as tf\n",
    "import matplotlib.pyplot as plt\n",
    "from sklearn.metrics import (confusion_matrix, accuracy_score, recall_score, \n",
    "                             precision_score, f1_score, classification_report)\n",
    "import numpy as np\n",
    "import matplotlib.pyplot as plt\n",
    "import seaborn as sns\n",
    "import pandas as pd\n",
    "from IPython.display import display, clear_output\n",
    "from sklearn.ensemble import RandomForestClassifier\n",
    "from sklearn.preprocessing import LabelEncoder\n",
    "from sklearn.metrics import accuracy_score"
   ]
  },
  {
   "cell_type": "markdown",
   "metadata": {},
   "source": [
    "## **Parse TFR**"
   ]
  },
  {
   "cell_type": "code",
   "execution_count": 16,
   "metadata": {},
   "outputs": [],
   "source": [
    "def parse_tfr(proto):\n",
    "    feature_description = {\n",
    "        'image': tf.io.FixedLenFeature([], tf.string),\n",
    "        'label': tf.io.FixedLenFeature([], tf.int64),\n",
    "    }\n",
    "    rec = tf.io.parse_single_example(proto, feature_description)\n",
    "    image = tf.image.decode_jpeg(rec['image'], channels=3)\n",
    "    label = rec['label']\n",
    "    return image, label\n",
    "\n",
    "train_file = 'data/oversampled_train_images.tfrecords'\n",
    "val_file = 'data/preprocessed_val_images.tfrecords'\n",
    "test_file = 'data/preprocessed_test_images.tfrecords'\n",
    "\n",
    "train_dataset = tf.data.TFRecordDataset(train_file)\n",
    "train_dataset = train_dataset.map(parse_tfr)\n",
    "\n",
    "val_dataset = tf.data.TFRecordDataset(val_file)\n",
    "val_dataset = val_dataset.map(parse_tfr)\n",
    "\n",
    "test_dataset = tf.data.TFRecordDataset(test_file)\n",
    "test_dataset = test_dataset.map(parse_tfr)\n"
   ]
  },
  {
   "cell_type": "code",
   "execution_count": 17,
   "metadata": {},
   "outputs": [
    {
     "name": "stdout",
     "output_type": "stream",
     "text": [
      ">> Number of examples in the training dataset: 4464\n",
      ">> Number of examples in the validation dataset: 1280\n",
      ">> Number of examples in the test dataset: 1\n"
     ]
    }
   ],
   "source": [
    "num_train_examples = sum(1 for _ in train_dataset)\n",
    "num_val_examples = sum(1 for _ in val_dataset)\n",
    "num_test_examples = sum(1 for _ in test_dataset)\n",
    "\n",
    "print(f\">> Number of examples in the training dataset: {num_train_examples}\")\n",
    "print(f\">> Number of examples in the validation dataset: {num_val_examples}\")\n",
    "print(f\">> Number of examples in the test dataset: {num_test_examples}\")"
   ]
  },
  {
   "cell_type": "markdown",
   "metadata": {},
   "source": [
    "## **Helper Functions**"
   ]
  },
  {
   "cell_type": "code",
   "execution_count": 18,
   "metadata": {},
   "outputs": [],
   "source": [
    "def evaluate_rf(classifier, X_train, y_train, X_val, y_val, class_names=None):\n",
    "    y_train_pred = classifier.predict(X_train)\n",
    "    y_val_pred = classifier.predict(X_val)\n",
    "    \n",
    "    train_accuracy = accuracy_score(y_train, y_train_pred)\n",
    "    train_recall = recall_score(y_train, y_train_pred, average='weighted')\n",
    "    train_precision = precision_score(y_train, y_train_pred, average='weighted')\n",
    "    train_f1 = f1_score(y_train, y_train_pred, average='weighted')\n",
    "\n",
    "    val_accuracy = accuracy_score(y_val, y_val_pred)\n",
    "    val_recall = recall_score(y_val, y_val_pred, average='weighted')\n",
    "    val_precision = precision_score(y_val, y_val_pred, average='weighted')\n",
    "    val_f1 = f1_score(y_val, y_val_pred, average='weighted')\n",
    "    \n",
    "    overall_metrics_df = pd.DataFrame({\n",
    "        \"Metric\": [\"Accuracy\", \"Weighted Recall\", \"Weighted Precision\", \"Weighted F1 Score\"],\n",
    "        \"Training\": [train_accuracy, train_recall, train_precision, train_f1],\n",
    "        \"Validation\": [val_accuracy, val_recall, val_precision, val_f1]\n",
    "    })\n",
    "    confusion_val = confusion_matrix(y_val, y_val_pred)\n",
    "    plt.figure(figsize=(8, 6))\n",
    "    sns.heatmap(confusion_val, annot=True, fmt=\"d\", cmap=\"Blues\", cbar=False,\n",
    "                xticklabels=class_names, yticklabels=class_names)\n",
    "    plt.xlabel(\"Predicted\")\n",
    "    plt.ylabel(\"Actual\")\n",
    "    plt.title(\"Confusion Matrix - Validation\")\n",
    "    plt.show()\n",
    "    \n",
    "    print(\"Overall Metrics:\")\n",
    "    print(overall_metrics_df)\n",
    "    print(\"\\n\")\n",
    "\n",
    "    print(\"Classification Report (Validation):\")\n",
    "    print(classification_report(y_val, y_val_pred, target_names=class_names))\n",
    "\n",
    "    return overall_metrics_df\n"
   ]
  },
  {
   "cell_type": "markdown",
   "metadata": {},
   "source": [
    "## **Random forest Model**"
   ]
  },
  {
   "cell_type": "markdown",
   "metadata": {},
   "source": [
    "### **Prepare Data**"
   ]
  },
  {
   "cell_type": "code",
   "execution_count": 19,
   "metadata": {},
   "outputs": [],
   "source": [
    "X_train, y_train = zip(*train_dataset)\n",
    "X_val, y_val = zip(*val_dataset)\n",
    "X_test, y_test = zip(*test_dataset)\n",
    "\n",
    "# Flatten and scale the images\n",
    "X_train = [tf.reshape(image, (-1,)).numpy() for image in X_train]\n",
    "X_val = [tf.reshape(image, (-1,)).numpy() for image in X_val]\n",
    "X_test = [tf.reshape(image, (-1,)).numpy() for image in X_test]"
   ]
  },
  {
   "cell_type": "markdown",
   "metadata": {},
   "source": [
    "### **Train Random Forest**"
   ]
  },
  {
   "cell_type": "code",
   "execution_count": 20,
   "metadata": {},
   "outputs": [
    {
     "data": {
      "text/html": [
       "<style>#sk-container-id-2 {color: black;}#sk-container-id-2 pre{padding: 0;}#sk-container-id-2 div.sk-toggleable {background-color: white;}#sk-container-id-2 label.sk-toggleable__label {cursor: pointer;display: block;width: 100%;margin-bottom: 0;padding: 0.3em;box-sizing: border-box;text-align: center;}#sk-container-id-2 label.sk-toggleable__label-arrow:before {content: \"▸\";float: left;margin-right: 0.25em;color: #696969;}#sk-container-id-2 label.sk-toggleable__label-arrow:hover:before {color: black;}#sk-container-id-2 div.sk-estimator:hover label.sk-toggleable__label-arrow:before {color: black;}#sk-container-id-2 div.sk-toggleable__content {max-height: 0;max-width: 0;overflow: hidden;text-align: left;background-color: #f0f8ff;}#sk-container-id-2 div.sk-toggleable__content pre {margin: 0.2em;color: black;border-radius: 0.25em;background-color: #f0f8ff;}#sk-container-id-2 input.sk-toggleable__control:checked~div.sk-toggleable__content {max-height: 200px;max-width: 100%;overflow: auto;}#sk-container-id-2 input.sk-toggleable__control:checked~label.sk-toggleable__label-arrow:before {content: \"▾\";}#sk-container-id-2 div.sk-estimator input.sk-toggleable__control:checked~label.sk-toggleable__label {background-color: #d4ebff;}#sk-container-id-2 div.sk-label input.sk-toggleable__control:checked~label.sk-toggleable__label {background-color: #d4ebff;}#sk-container-id-2 input.sk-hidden--visually {border: 0;clip: rect(1px 1px 1px 1px);clip: rect(1px, 1px, 1px, 1px);height: 1px;margin: -1px;overflow: hidden;padding: 0;position: absolute;width: 1px;}#sk-container-id-2 div.sk-estimator {font-family: monospace;background-color: #f0f8ff;border: 1px dotted black;border-radius: 0.25em;box-sizing: border-box;margin-bottom: 0.5em;}#sk-container-id-2 div.sk-estimator:hover {background-color: #d4ebff;}#sk-container-id-2 div.sk-parallel-item::after {content: \"\";width: 100%;border-bottom: 1px solid gray;flex-grow: 1;}#sk-container-id-2 div.sk-label:hover label.sk-toggleable__label {background-color: #d4ebff;}#sk-container-id-2 div.sk-serial::before {content: \"\";position: absolute;border-left: 1px solid gray;box-sizing: border-box;top: 0;bottom: 0;left: 50%;z-index: 0;}#sk-container-id-2 div.sk-serial {display: flex;flex-direction: column;align-items: center;background-color: white;padding-right: 0.2em;padding-left: 0.2em;position: relative;}#sk-container-id-2 div.sk-item {position: relative;z-index: 1;}#sk-container-id-2 div.sk-parallel {display: flex;align-items: stretch;justify-content: center;background-color: white;position: relative;}#sk-container-id-2 div.sk-item::before, #sk-container-id-2 div.sk-parallel-item::before {content: \"\";position: absolute;border-left: 1px solid gray;box-sizing: border-box;top: 0;bottom: 0;left: 50%;z-index: -1;}#sk-container-id-2 div.sk-parallel-item {display: flex;flex-direction: column;z-index: 1;position: relative;background-color: white;}#sk-container-id-2 div.sk-parallel-item:first-child::after {align-self: flex-end;width: 50%;}#sk-container-id-2 div.sk-parallel-item:last-child::after {align-self: flex-start;width: 50%;}#sk-container-id-2 div.sk-parallel-item:only-child::after {width: 0;}#sk-container-id-2 div.sk-dashed-wrapped {border: 1px dashed gray;margin: 0 0.4em 0.5em 0.4em;box-sizing: border-box;padding-bottom: 0.4em;background-color: white;}#sk-container-id-2 div.sk-label label {font-family: monospace;font-weight: bold;display: inline-block;line-height: 1.2em;}#sk-container-id-2 div.sk-label-container {text-align: center;}#sk-container-id-2 div.sk-container {/* jupyter's `normalize.less` sets `[hidden] { display: none; }` but bootstrap.min.css set `[hidden] { display: none !important; }` so we also need the `!important` here to be able to override the default hidden behavior on the sphinx rendered scikit-learn.org. See: https://github.com/scikit-learn/scikit-learn/issues/21755 */display: inline-block !important;position: relative;}#sk-container-id-2 div.sk-text-repr-fallback {display: none;}</style><div id=\"sk-container-id-2\" class=\"sk-top-container\"><div class=\"sk-text-repr-fallback\"><pre>RandomForestClassifier(max_depth=20, max_leaf_nodes=50, min_samples_leaf=5,\n",
       "                       n_estimators=80, random_state=42)</pre><b>In a Jupyter environment, please rerun this cell to show the HTML representation or trust the notebook. <br />On GitHub, the HTML representation is unable to render, please try loading this page with nbviewer.org.</b></div><div class=\"sk-container\" hidden><div class=\"sk-item\"><div class=\"sk-estimator sk-toggleable\"><input class=\"sk-toggleable__control sk-hidden--visually\" id=\"sk-estimator-id-2\" type=\"checkbox\" checked><label for=\"sk-estimator-id-2\" class=\"sk-toggleable__label sk-toggleable__label-arrow\">RandomForestClassifier</label><div class=\"sk-toggleable__content\"><pre>RandomForestClassifier(max_depth=20, max_leaf_nodes=50, min_samples_leaf=5,\n",
       "                       n_estimators=80, random_state=42)</pre></div></div></div></div></div>"
      ],
      "text/plain": [
       "RandomForestClassifier(max_depth=20, max_leaf_nodes=50, min_samples_leaf=5,\n",
       "                       n_estimators=80, random_state=42)"
      ]
     },
     "execution_count": 20,
     "metadata": {},
     "output_type": "execute_result"
    }
   ],
   "source": [
    "rf_classifier = RandomForestClassifier(n_estimators=80, max_depth=20, max_leaf_nodes=50, min_samples_leaf=5, random_state=42)\n",
    "rf_classifier.fit(X_train, y_train)\n"
   ]
  },
  {
   "cell_type": "markdown",
   "metadata": {},
   "source": [
    "## **Validation**"
   ]
  },
  {
   "cell_type": "code",
   "execution_count": 21,
   "metadata": {},
   "outputs": [
    {
     "data": {
      "image/png": "[encoded data removed]",
      "text/plain": [
       "<Figure size 800x600 with 1 Axes>"
      ]
     },
     "metadata": {},
     "output_type": "display_data"
    },
    {
     "name": "stdout",
     "output_type": "stream",
     "text": [
      "Overall Metrics:\n",
      "               Metric  Training  Validation\n",
      "0            Accuracy  0.939964    0.853906\n",
      "1     Weighted Recall  0.939964    0.853906\n",
      "2  Weighted Precision  0.940111    0.861462\n",
      "3   Weighted F1 Score  0.939961    0.855472\n",
      "\n",
      "\n",
      "Classification Report (Validation):\n",
      "              precision    recall  f1-score   support\n",
      "\n",
      "   BACTERIAL       0.87      0.88      0.87       404\n",
      "       BLAST       0.74      0.82      0.78       273\n",
      "   BROWNSPOT       0.94      0.83      0.88       484\n",
      "      TUNGRO       0.80      0.92      0.86       119\n",
      "\n",
      "    accuracy                           0.85      1280\n",
      "   macro avg       0.84      0.86      0.85      1280\n",
      "weighted avg       0.86      0.85      0.86      1280\n",
      "\n"
     ]
    }
   ],
   "source": [
    "overall_metrics = evaluate_rf(rf_classifier, X_train, y_train, X_val, y_val, class_names=[\"BACTERIAL\", \"BLAST\", \"BROWNSPOT\", \"TUNGRO\"])"
   ]
  }
 ],
 "metadata": {
  "kernelspec": {
   "display_name": "conda_rice_env",
   "language": "python",
   "name": "python3"
  },
  "language_info": {
   "codemirror_mode": {
    "name": "ipython",
    "version": 3
   },
   "file_extension": ".py",
   "mimetype": "text/x-python",
   "name": "python",
   "nbconvert_exporter": "python",
   "pygments_lexer": "ipython3",
   "version": "3.10.12"
  }
 },
 "nbformat": 4,
 "nbformat_minor": 2
}
